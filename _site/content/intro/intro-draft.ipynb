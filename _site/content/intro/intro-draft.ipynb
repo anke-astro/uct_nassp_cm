{
 "cells": [
  {
   "cell_type": "markdown",
   "metadata": {},
   "source": [
    "# Programming and Python in a Nutshell"
   ]
  },
  {
   "cell_type": "markdown",
   "metadata": {},
   "source": [
    "## What is a programming language?\n",
    "\n",
    "Programming is, in essence, writing a series of instructions for the computer to execute. This is done using a programming language, which can be understood or translated to a form that can be understood by the computer. <!--- which is compiled to a form that the computer will understand. -->\n",
    "\n",
    "<!---\n",
    "The language of computers is binary (`1`s and `0`s) which controls a bunch of switches (logic gates) on the computer hardware. \n",
    "-->\n",
    "\n",
    "At the lowest level the language of computers is called machine code. This language is used to communicate with the computers CPU through binary or hexadecimal instructions (which is not easy for humans to read).\n",
    "This language is dependent on the computer hardware being used and is not easy to understand as humans. A step up from this is <!--- the programming language assembly (built in binary), \n",
    "--> an assembly language, which uses some human language, but is still difficult to understand and dependent on the computer architecture {% cite wikipedia_macine_code, wikipedia_assembly %}. \n",
    "\n",
    "Hardware dependence could be a big problem. Programs written for one computer would not necessarily work on another computer, they would have to be translated (by a human) first. To bridge this difference between hardware specifications high level programming languages were developed.\n",
    "\n",
    "<!--- computers now have operating systems installed. A program or software layer that acts as a middle man between the other software running on your computer and the hardware doing all the work.\n",
    "-->\n",
    "\n",
    "Most of the programming languages you are likely to use these days are high-level programming languages. These languages are designed to be readable by humans. They also allow for programs to be written independently (to some degree) from the hardware in question <!--- and rather depend on the operating systems.--> \n",
    "At some level these languages will need to be compiled (translated from one language to another {% cite wikipedia_compiler %})\n",
    "to machine code {% cite wikipedia_machine_code %}.\n",
    "\n",
    "<!---\n",
    "These languages need to be compiled to machine code, which can be understood by the operating system, before the computer can run them.\n",
    "-->"
   ]
  },
  {
   "cell_type": "markdown",
   "metadata": {},
   "source": [
    "### What is a statically typed language?\n",
    "\n",
    "Here type refers to \"kind\"..."
   ]
  },
  {
   "cell_type": "markdown",
   "metadata": {},
   "source": [
    "## What is a Script?"
   ]
  },
  {
   "cell_type": "markdown",
   "metadata": {},
   "source": [
    "## Python, a Dynamic Programming Language.\n",
    "Python is a high level language and thus needs to eventually be translated into machine code. Many high level programming languages' source code (the instructions written in the programming language) is compiled to machine code once, and then can be executed in this form. These are called static programming languages (C is an example). Dynamic programming languages are languages where operations that would normally take place at compile-time (when the code is compiled) can instead be done at run-time (when the program is executed) {% cite mozilla_dynamic %}. Python is a dynamic programming language.\n",
    "\n",
    "\n",
    "<!-- Talk about the Compiling and Linking process briefly -->\n",
    "\n",
    "<!-- Briefly mention dynamic typing -->\n",
    "\n",
    "\n",
    "<!-- Come back and make sure this isn't nonsense\n",
    "A dynamic programming language is one that does not require data types to be defined when you are writing a script. Generally these languages achieve this by not compiling the scripts into machine code before you can run it. Instead chunks of code are compiled as the script is running. This flexibility comes at a cost, however, as the process of compiling can be quite slow. This cost can be reduced somewhat by pre-compiling portions of the code.\n",
    "\n",
    "In the Python modules you will come across later, some of the methods they provide run pre-compiled code in a different programming language (generally C from which Python itself is built) . This means that they are more efficient than a similar solution written purely in Python.\n",
    "-->\n",
    "\n",
    "<!-- Talk about Cython?\n",
    "Though it's outside the scope of this course, in Python you do have the ... cython\n",
    " -->"
   ]
  },
  {
   "cell_type": "markdown",
   "metadata": {},
   "source": [
    "{% bibliography --cited %}"
   ]
  }
 ],
 "metadata": {
  "kernelspec": {
   "display_name": "Python 3",
   "language": "python",
   "name": "python3"
  },
  "language_info": {
   "codemirror_mode": {
    "name": "ipython",
    "version": 3
   },
   "file_extension": ".py",
   "mimetype": "text/x-python",
   "name": "python",
   "nbconvert_exporter": "python",
   "pygments_lexer": "ipython3",
   "version": "3.7.3"
  }
 },
 "nbformat": 4,
 "nbformat_minor": 4
}
