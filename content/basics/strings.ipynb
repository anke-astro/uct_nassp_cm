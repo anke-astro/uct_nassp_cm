{
 "cells": [
  {
   "cell_type": "markdown",
   "metadata": {},
   "source": [
    "# Strings\n",
    "\n",
    "In this section we shall take a closer look at the string type and some of the operations associated with them. The following section makes heavy reference to online notes by Dr. Andrew N. Harrington, [Hands-on Python 3 Tutorial](http://anh.cs.luc.edu/python/hands-on/3.1/handsonHtml/index.html) released under the [CC BY-NC-SA 4.0](https://creativecommons.org/licenses/by-nc-sa/4.0/) license."
   ]
  },
  {
   "cell_type": "markdown",
   "metadata": {},
   "source": [
    "## Concatenation `+`\n",
    "For strings the `+` symbol is used to concatenate two strings together. For example:"
   ]
  },
  {
   "cell_type": "code",
   "execution_count": 3,
   "metadata": {},
   "outputs": [
    {
     "name": "stdout",
     "output_type": "stream",
     "text": [
      "One string and another\n"
     ]
    }
   ],
   "source": [
    "print('One string' + ' and another')"
   ]
  },
  {
   "cell_type": "markdown",
   "metadata": {},
   "source": [
    "## Duplication `*`\n",
    "The duplication `*` operator takes a string and an integer and repeats the string as many times as the integer value:"
   ]
  },
  {
   "cell_type": "code",
   "execution_count": 6,
   "metadata": {},
   "outputs": [
    {
     "name": "stdout",
     "output_type": "stream",
     "text": [
      "hello hello hello hello \n",
      "bye bye \n"
     ]
    }
   ],
   "source": [
    "print('hello '*4)\n",
    "print(2*'bye ')"
   ]
  },
  {
   "cell_type": "markdown",
   "metadata": {},
   "source": [
    "## Indexing `[]`\n",
    "Strings can be seen as a collection of characters. Each of these character has an integer index associated with it, based on it's position in the string. For example, take the string `'computer'`:"
   ]
  },
  {
   "cell_type": "markdown",
   "metadata": {},
   "source": [
    "|---------|-|-|-|-|-|-|-|-|\n",
    "character |c|o|m|p|u|t|e|r|\n",
    "index     |0|1|2|3|4|5|6|7|"
   ]
  },
  {
   "cell_type": "markdown",
   "metadata": {},
   "source": [
    "You can access individual characters in the string by index using:\n",
    "```\n",
    "string[index]\n",
    "```\n",
    "for example:"
   ]
  },
  {
   "cell_type": "code",
   "execution_count": 1,
   "metadata": {},
   "outputs": [
    {
     "name": "stdout",
     "output_type": "stream",
     "text": [
      "Index 3: p\n",
      "Index 7: r\n"
     ]
    }
   ],
   "source": [
    "computer_string = 'computer'\n",
    "\n",
    "print('Index 3:', computer_string[3])\n",
    "\n",
    "print('Index 7:', computer_string[7])"
   ]
  },
  {
   "cell_type": "markdown",
   "metadata": {},
   "source": [
    "If you use an index that is too large for the given string, Python will return an error:"
   ]
  },
  {
   "cell_type": "code",
   "execution_count": 8,
   "metadata": {},
   "outputs": [
    {
     "ename": "IndexError",
     "evalue": "string index out of range",
     "output_type": "error",
     "traceback": [
      "\u001b[0;31m---------------------------------------------------------------------------\u001b[0m",
      "\u001b[0;31mIndexError\u001b[0m                                Traceback (most recent call last)",
      "\u001b[0;32m<ipython-input-8-abeba3add71f>\u001b[0m in \u001b[0;36m<module>\u001b[0;34m()\u001b[0m\n\u001b[0;32m----> 1\u001b[0;31m \u001b[0mprint\u001b[0m\u001b[0;34m(\u001b[0m\u001b[0;34m'Index 11'\u001b[0m\u001b[0;34m,\u001b[0m \u001b[0mcomputer_string\u001b[0m\u001b[0;34m[\u001b[0m\u001b[0;36m11\u001b[0m\u001b[0;34m]\u001b[0m\u001b[0;34m)\u001b[0m\u001b[0;34m\u001b[0m\u001b[0;34m\u001b[0m\u001b[0m\n\u001b[0m",
      "\u001b[0;31mIndexError\u001b[0m: string index out of range"
     ]
    }
   ],
   "source": [
    "print('Index 11', computer_string[11])"
   ]
  },
  {
   "cell_type": "markdown",
   "metadata": {},
   "source": [
    "You can find the number of characters in a string using the `len()` function:"
   ]
  },
  {
   "cell_type": "code",
   "execution_count": 9,
   "metadata": {},
   "outputs": [
    {
     "name": "stdout",
     "output_type": "stream",
     "text": [
      "There are 8 characters in the string\n"
     ]
    }
   ],
   "source": [
    "print('There are', len(computer_string), 'characters in the string')"
   ]
  },
  {
   "cell_type": "markdown",
   "metadata": {},
   "source": [
    "Notice how the length of `computer_string` is one greater than its largest index. This is because Python indexes from `0`.\n",
    "\n",
    "Thus, if we don't know how long a string is before hand (if a variable holding a string is subject to change for instance) and we want to index the last value of the string, we could use `len() - 1` as the index:"
   ]
  },
  {
   "cell_type": "code",
   "execution_count": 11,
   "metadata": {},
   "outputs": [
    {
     "name": "stdout",
     "output_type": "stream",
     "text": [
      "The last character: r\n"
     ]
    }
   ],
   "source": [
    "print('The last character:', computer_string[len(computer_string) - 1])"
   ]
  },
  {
   "cell_type": "markdown",
   "metadata": {},
   "source": [
    "This method works, but Python gives us a far cleaner way of doing this: using an index of `-1`. This won't work for most other programming languages. "
   ]
  },
  {
   "cell_type": "code",
   "execution_count": 12,
   "metadata": {},
   "outputs": [
    {
     "name": "stdout",
     "output_type": "stream",
     "text": [
      "The last character: r\n"
     ]
    }
   ],
   "source": [
    "print('The last character:', computer_string[-1])"
   ]
  },
  {
   "cell_type": "markdown",
   "metadata": {},
   "source": [
    "In general, negative indices in Python index the strings (and other objects) backwards:"
   ]
  },
  {
   "cell_type": "code",
   "execution_count": 13,
   "metadata": {},
   "outputs": [
    {
     "name": "stdout",
     "output_type": "stream",
     "text": [
      "Second last character e\n",
      "Third last character t\n"
     ]
    }
   ],
   "source": [
    "print('Second last character', computer_string[-2])\n",
    "\n",
    "print('Third last character', computer_string[-3])"
   ]
  },
  {
   "cell_type": "markdown",
   "metadata": {},
   "source": [
    "Note that the index `-8` corresponds to the `0` index (`len(computer_string) - 8` is `0`) so anything less than this would be out of bounds."
   ]
  },
  {
   "cell_type": "markdown",
   "metadata": {},
   "source": [
    "## Slicing\n",
    "Slicing allows us to extract segments of the string, as apposed to individual characters. The syntax for string slicing is:\n",
    "```\n",
    "string[start_index:stop_index]\n",
    "```\n",
    "where the `stop_index` is not included in the slice, rather the slice stops before this index. For example, consider the slice:"
   ]
  },
  {
   "cell_type": "code",
   "execution_count": 14,
   "metadata": {},
   "outputs": [
    {
     "name": "stdout",
     "output_type": "stream",
     "text": [
      "mpu\n"
     ]
    }
   ],
   "source": [
    "print(computer_string[2:5])"
   ]
  },
  {
   "cell_type": "markdown",
   "metadata": {},
   "source": [
    "where the last character is `'r'`, but the character with index `5` is `'t'`.\n",
    "\n",
    "If we want to take a slice from the beginning of a string we could use `0` as the `start_index`:"
   ]
  },
  {
   "cell_type": "code",
   "execution_count": 21,
   "metadata": {},
   "outputs": [
    {
     "name": "stdout",
     "output_type": "stream",
     "text": [
      "com\n"
     ]
    }
   ],
   "source": [
    "print(computer_string[0:3])"
   ]
  },
  {
   "cell_type": "markdown",
   "metadata": {},
   "source": [
    "Alternatively if we left the `start_index` blank Python will interprate this as starting from the beginning of the string:"
   ]
  },
  {
   "cell_type": "code",
   "execution_count": 22,
   "metadata": {},
   "outputs": [
    {
     "name": "stdout",
     "output_type": "stream",
     "text": [
      "com\n"
     ]
    }
   ],
   "source": [
    "print(computer_string[:3])"
   ]
  },
  {
   "cell_type": "markdown",
   "metadata": {},
   "source": [
    "Similarly if we wanted to take a slice up to and including the last character in the string, we can use: "
   ]
  },
  {
   "cell_type": "code",
   "execution_count": 25,
   "metadata": {},
   "outputs": [
    {
     "name": "stdout",
     "output_type": "stream",
     "text": [
      "puter\n"
     ]
    }
   ],
   "source": [
    "print(computer_string[3:len(computer_string)])"
   ]
  },
  {
   "cell_type": "markdown",
   "metadata": {},
   "source": [
    "or simply leave the `stop_index` blank:"
   ]
  },
  {
   "cell_type": "code",
   "execution_count": 24,
   "metadata": {},
   "outputs": [
    {
     "name": "stdout",
     "output_type": "stream",
     "text": [
      "puter\n"
     ]
    }
   ],
   "source": [
    "print(computer_string[3:])"
   ]
  },
  {
   "cell_type": "markdown",
   "metadata": {},
   "source": [
    "Notice the slice above is not the same as if we used `-1` as the `stop_index`:"
   ]
  },
  {
   "cell_type": "code",
   "execution_count": 27,
   "metadata": {},
   "outputs": [
    {
     "name": "stdout",
     "output_type": "stream",
     "text": [
      "pute\n"
     ]
    }
   ],
   "source": [
    "print(computer_string[3:-1])"
   ]
  },
  {
   "cell_type": "markdown",
   "metadata": {},
   "source": [
    "even though the same rules apply as with indexing, the slice always stops **before** the `stop_index`."
   ]
  },
  {
   "cell_type": "markdown",
   "metadata": {},
   "source": [
    "We can use a third index when slicing as a step size:\n",
    "```\n",
    "string[start_index: stop_index: step_size]\n",
    "```\n",
    "For example, we can get every second character from a string using a step size of `2`:"
   ]
  },
  {
   "cell_type": "code",
   "execution_count": 20,
   "metadata": {},
   "outputs": [
    {
     "name": "stdout",
     "output_type": "stream",
     "text": [
      "Starting from 0: cmue\n",
      "Starting from 1: optr\n"
     ]
    }
   ],
   "source": [
    "print('Starting from 0:', computer_string[0:8:2])\n",
    "print('Starting from 1:', computer_string[1:8:2])"
   ]
  },
  {
   "cell_type": "markdown",
   "metadata": {
    "comments": [
     {
      "body": [
       {
        "created": "2019-12-03T13:21:42.878Z",
        "creator": {
         "image": "https://avatars0.githubusercontent.com/u/52176275?v=4",
         "name": "Mayhew Steyn",
         "user": "maystey"
        },
        "edited": false,
        "value": "This paragraph has a bit too much unrelated material."
       }
      ],
      "id": "anno/0",
      "resolved": false,
      "total": 1
     }
    ]
   },
   "source": [
    "The step size can be any integer. Note that by default it is set to 1. As another example lets print out every second character from `computer_string` starting from the first:"
   ]
  },
  {
   "cell_type": "code",
   "execution_count": 4,
   "metadata": {},
   "outputs": [
    {
     "name": "stdout",
     "output_type": "stream",
     "text": [
      "cpe\n"
     ]
    }
   ],
   "source": [
    "print(computer_string[::3])"
   ]
  },
  {
   "cell_type": "markdown",
   "metadata": {},
   "source": [
    "The step size need not be positive. If a negative step size is used the string will be sliced backwards. For example if we want to print out the whole of `computer_string` backwards:"
   ]
  },
  {
   "cell_type": "code",
   "execution_count": 6,
   "metadata": {},
   "outputs": [
    {
     "name": "stdout",
     "output_type": "stream",
     "text": [
      "retupmoc\n"
     ]
    }
   ],
   "source": [
    "print(computer_string[::-1])"
   ]
  },
  {
   "cell_type": "markdown",
   "metadata": {},
   "source": [
    "Note, when slicing with a negative step size you must ensure that `start_index` is greater than `stop_index`, otherwise your slice will be empty."
   ]
  },
  {
   "cell_type": "code",
   "execution_count": 9,
   "metadata": {},
   "outputs": [
    {
     "name": "stdout",
     "output_type": "stream",
     "text": [
      "Empty slice: \n",
      "Not empty slice: etupmo\n"
     ]
    }
   ],
   "source": [
    "print('Empty slice:', computer_string[0:6:-1])\n",
    "print('Not empty slice:', computer_string[6:0:-1])"
   ]
  },
  {
   "cell_type": "markdown",
   "metadata": {},
   "source": [
    "Also notice how, in the second slice above, the `0` index character is not present. Even when slicing with a negative step size the `stop_index` is **not** included in the slice."
   ]
  },
  {
   "cell_type": "markdown",
   "metadata": {},
   "source": [
    "## String Formatting\n",
    "\n",
    "Concatenating strings can sometimes be cumbersome and hard to automate. If you need to include variables and/or values in your string, you may be better off using string formatting. We will use this technique more extensively later on.\n",
    "\n",
    "There are a few ways to format strings. We will cover one of the ways introduced in Python 3. That is using the `string.format()` method.\n",
    "\n",
    "This method treats everything contained in curly braces`{}` in the string as a replacement field, everything in and including the braces are replaced with the arguments of format in the output string."
   ]
  },
  {
   "cell_type": "code",
   "execution_count": 1,
   "metadata": {},
   "outputs": [
    {
     "name": "stdout",
     "output_type": "stream",
     "text": [
      "Hello world, how are you?\n"
     ]
    }
   ],
   "source": [
    "print('Hello {}, how are you?'.format('world'))"
   ]
  },
  {
   "cell_type": "markdown",
   "metadata": {},
   "source": [
    "As you can see above, the blank curly braces were replaced with the string argument `'world'`.\n",
    "\n",
    "Note that the method does not change the string itself but returns a new string."
   ]
  },
  {
   "cell_type": "markdown",
   "metadata": {},
   "source": [
    "You can make multiple replacements at a time if you have a string with multiple replacement fields:"
   ]
  },
  {
   "cell_type": "code",
   "execution_count": 2,
   "metadata": {},
   "outputs": [
    {
     "name": "stdout",
     "output_type": "stream",
     "text": [
      "1, 2, 3\n"
     ]
    }
   ],
   "source": [
    "print('{}, {}, {}'.format(1, 2, 3))"
   ]
  },
  {
   "cell_type": "markdown",
   "metadata": {},
   "source": [
    "Sometimes you will want more control over how the arguments of format are placed into the string. There is a specific syntax for formatting which you can read in the [documentation](https://docs.python.org/3.4/library/string.html#format-string-syntax). We will cover a few examples."
   ]
  },
  {
   "cell_type": "markdown",
   "metadata": {},
   "source": [
    "### Specify Arguments by Position\n",
    "\n",
    "If you want to specify the order in which the arguments of format are placed into the string, you can put numbers in the replacement fields to reference the positional arguments:"
   ]
  },
  {
   "cell_type": "code",
   "execution_count": 2,
   "metadata": {},
   "outputs": [
    {
     "name": "stdout",
     "output_type": "stream",
     "text": [
      "1, 3, 2\n"
     ]
    }
   ],
   "source": [
    "print('{0}, {2}, {1}'.format(1, 2, 3))"
   ]
  },
  {
   "cell_type": "markdown",
   "metadata": {},
   "source": [
    "Note that this also allows you to repeat elements:"
   ]
  },
  {
   "cell_type": "code",
   "execution_count": 3,
   "metadata": {},
   "outputs": [
    {
     "name": "stdout",
     "output_type": "stream",
     "text": [
      "1, 3, 2, 3\n"
     ]
    }
   ],
   "source": [
    "print('{0}, {2}, {1}, {2}'.format(1, 2, 3))"
   ]
  },
  {
   "cell_type": "markdown",
   "metadata": {},
   "source": [
    "### Specify Arguments by Name\n",
    "\n",
    "You can also specify arguments by name, the arguments must then be presented as keyword arguments:"
   ]
  },
  {
   "cell_type": "code",
   "execution_count": 35,
   "metadata": {},
   "outputs": [
    {
     "name": "stdout",
     "output_type": "stream",
     "text": [
      "You can find the point at position (2, 6).\n"
     ]
    }
   ],
   "source": [
    "print('You can find the point at position ({x}, {y}).'.format(x = 2, y = 6)) #Arguments with names 'x' and 'y'"
   ]
  },
  {
   "cell_type": "markdown",
   "metadata": {},
   "source": [
    "### Specifying Numerical Types and Precision\n",
    "\n",
    "To put it simply, when formatting numerical arguments the format specifier (to be placed in the replacement field) is of the structure:\n",
    "`[argument_reference]:[width][.precision][type]`\n",
    "\n",
    "Where\n",
    "- `argument_reference` is the position of or name of the argument. \n",
    "- `width` specifies the minimum width that a replacement will take (look to the docs for alignment options)\n",
    "- For floats `precision` can be seen as the number of decimal places.\n",
    "- `type` specifies what type you want to display the number as. Multiple types exist for both integers and floats, but the most commonly used types are `d` for decimal integer and `f` for fixed point number (which you can use for floats)\n",
    "\n",
    "Each of these parts of the format specifier are optional."
   ]
  },
  {
   "cell_type": "markdown",
   "metadata": {},
   "source": [
    "As a first example, lets display an integer:"
   ]
  },
  {
   "cell_type": "code",
   "execution_count": 27,
   "metadata": {},
   "outputs": [
    {
     "name": "stdout",
     "output_type": "stream",
     "text": [
      "5\n"
     ]
    }
   ],
   "source": [
    "print('{:d}'.format(5))"
   ]
  },
  {
   "cell_type": "markdown",
   "metadata": {},
   "source": [
    "Now, lets see how the width affects the output:"
   ]
  },
  {
   "cell_type": "code",
   "execution_count": 28,
   "metadata": {},
   "outputs": [
    {
     "name": "stdout",
     "output_type": "stream",
     "text": [
      "5\n",
      "5\n",
      " 5\n",
      "  5\n"
     ]
    }
   ],
   "source": [
    "print('{:d}'.format(5)) #minimum width of 0\n",
    "print('{:1d}'.format(5)) #minimum width of 1\n",
    "print('{:2d}'.format(5)) #minimum width of 2\n",
    "print('{:3d}'.format(5)) #minimum width of 3"
   ]
  },
  {
   "cell_type": "markdown",
   "metadata": {},
   "source": [
    "As you can see the first 2 outputs are the same. That is because the output is of length 1."
   ]
  },
  {
   "cell_type": "markdown",
   "metadata": {},
   "source": [
    "If you want to display a float to 2 decimal places, specify precision:"
   ]
  },
  {
   "cell_type": "code",
   "execution_count": 29,
   "metadata": {},
   "outputs": [
    {
     "name": "stdout",
     "output_type": "stream",
     "text": [
      "1.23\n"
     ]
    }
   ],
   "source": [
    "print('{:.2f}'.format(1.232435455))"
   ]
  },
  {
   "cell_type": "markdown",
   "metadata": {},
   "source": [
    "If you want to specify the position of the argument, include a reference to the argument position:"
   ]
  },
  {
   "cell_type": "code",
   "execution_count": 32,
   "metadata": {},
   "outputs": [
    {
     "name": "stdout",
     "output_type": "stream",
     "text": [
      "5.354\n"
     ]
    }
   ],
   "source": [
    "print('{1:.3f}'.format(1.232435455, 5.35362)) #argument position of 1"
   ]
  },
  {
   "cell_type": "markdown",
   "metadata": {},
   "source": [
    "### Including Curly Braces in Formatted String\n",
    "\n",
    "If you want to include curly braces in a string you are formatting you can double them up:"
   ]
  },
  {
   "cell_type": "code",
   "execution_count": 5,
   "metadata": {},
   "outputs": [
    {
     "name": "stdout",
     "output_type": "stream",
     "text": [
      "Format a string while keeping {}\n"
     ]
    }
   ],
   "source": [
    "print('Format a {} while keeping {{}}'.format('string'))"
   ]
  },
  {
   "cell_type": "markdown",
   "metadata": {},
   "source": [
    "You can also enclose the replacement field in double braces:"
   ]
  },
  {
   "cell_type": "code",
   "execution_count": 8,
   "metadata": {},
   "outputs": [
    {
     "name": "stdout",
     "output_type": "stream",
     "text": [
      "{Text inside braces}\n"
     ]
    }
   ],
   "source": [
    "print('{{{}}}'.format('Text inside braces'))"
   ]
  }
 ],
 "metadata": {
  "kernelspec": {
   "display_name": "Python 3",
   "language": "python",
   "name": "python3"
  },
  "language_info": {
   "codemirror_mode": {
    "name": "ipython",
    "version": 3
   },
   "file_extension": ".py",
   "mimetype": "text/x-python",
   "name": "python",
   "nbconvert_exporter": "python",
   "pygments_lexer": "ipython3",
   "version": "3.7.3"
  }
 },
 "nbformat": 4,
 "nbformat_minor": 4
}
