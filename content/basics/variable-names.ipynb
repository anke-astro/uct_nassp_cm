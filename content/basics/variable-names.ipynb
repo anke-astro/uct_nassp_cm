{
 "cells": [
  {
   "cell_type": "code",
   "execution_count": null,
   "metadata": {},
   "outputs": [],
   "source": [
    "##I moved this to the variables section"
   ]
  },
  {
   "cell_type": "markdown",
   "metadata": {},
   "source": [
    "# Variable Names\n",
    "So far we have been using single letters (`a`, `b`, `c`, `d`, ...) as variable names, but this approach can be confusing for long segments of codes. Variable names should be as clear and descriptive as possible (describing what they are used for), while still being short enough to type out efficiently.\n",
    "\n",
    "To this end we should delve into some of the restrictions on the character sequences that make up variable names:\n",
    "* The characters must all be letters, digits, or underscores (\\_) , and must start with a letter. In particular, punctuation and blanks are not allowed.\n",
    "* There are some words that are reserved for special use in Python. You may not use these words as your own identifiers. This is the full list:"
   ]
  },
  {
   "cell_type": "markdown",
   "metadata": {},
   "source": [
    "|      |      |      |      |      |\n",
    "|------|------|------|------|------|\n",
    "|`False`\t|`class` |\t`finally`|\t`is`| \t`return`|\n",
    "|`None`|\t`continue`|\t`for`|\t`lambda`|\t`try`|\n",
    "|`True`|\t`def`|\t`from`|\t`nonlocal`|\t`while`|\n",
    "|`and`|\t`del`|\t`global`|\t`not`|\t`with`|\n",
    "|`as`\t\t|`elif`\t|`if`\t\t|`or`\t\t|`yield`|\n",
    "|`assert`\t|`else`\t|`import`\t|`pass`| |\n",
    "|`break`|\t`except`\t|`in`\t\t|`raise`| |"
   ]
  },
  {
   "cell_type": "code",
   "execution_count": null,
   "metadata": {},
   "outputs": [],
   "source": [
    "##Need to get comments working...\n",
    "##The term identifier was used instead of variable name here. If I'm going to use that term I need to introduce it\n",
    "##in the variables section."
   ]
  },
  {
   "cell_type": "markdown",
   "metadata": {},
   "source": [
    "* Python is case sensitive: The variable names `last`, `LAST`, and `LaSt` are all different.\n",
    "\n",
    "Now, you may want to use a variable that is more than one word long, for example `price at opening`, but blanks are illegal! One poor option is just leaving out the blanks, like `priceatopening`. Then it may be hard to figure out where words split. Two practical options are:\n",
    "*  Underscore separated: putting underscores (which are legal) in place of the blanks, like `price\\_at\\_opening`.\n",
    "*  Using camel-case: omitting spaces and using all lowercase, except capitalizing all words after the first, like `priceAtOpening`.\n",
    "* Using Pascal-case: similar to camel-case but capitalising the first word, `PrinceAtOpening`.\n",
    "\n",
    "The standard in Python is to use underscore seperations for variable and function names."
   ]
  },
  {
   "cell_type": "code",
   "execution_count": null,
   "metadata": {},
   "outputs": [],
   "source": [
    "##Talk about comments somewhere else"
   ]
  }
 ],
 "metadata": {
  "kernelspec": {
   "display_name": "Python 3",
   "language": "python",
   "name": "python3"
  },
  "language_info": {
   "codemirror_mode": {
    "name": "ipython",
    "version": 3
   },
   "file_extension": ".py",
   "mimetype": "text/x-python",
   "name": "python",
   "nbconvert_exporter": "python",
   "pygments_lexer": "ipython3",
   "version": "3.7.3"
  }
 },
 "nbformat": 4,
 "nbformat_minor": 4
}
