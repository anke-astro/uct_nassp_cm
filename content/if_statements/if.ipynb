{
 "cells": [
  {
   "cell_type": "markdown",
   "metadata": {},
   "source": [
    "# If Statement\n",
    "\n",
    "The `if` statement is used to execute a block of code if a condition is true. The syntax of an if statement is:\n",
    "```\n",
    "if condition:\n",
    "    block of code\n",
    "```\n",
    "where `condition` must be/evaluate to a boolean value. If `condition` evaluates to `True` then control moves to the block of code indented after the `:` and it is executed. <!--- Is this language correct?--> If `condition` evaluates to `False`, then the block of code is skipped and control moves on to the code after the `if` statement."
   ]
  },
  {
   "cell_type": "markdown",
   "metadata": {},
   "source": [
    "### Worked Example\n",
    "\n",
    "Let's consider the case where we want to check if one variable is greater than the other:"
   ]
  },
  {
   "cell_type": "code",
   "execution_count": 2,
   "metadata": {},
   "outputs": [
    {
     "name": "stdout",
     "output_type": "stream",
     "text": [
      "3 is greater than 2\n"
     ]
    }
   ],
   "source": [
    "a = 3\n",
    "b = 2\n",
    "\n",
    "if a > b:\n",
    "    print(a, 'is greater than', b)"
   ]
  },
  {
   "cell_type": "markdown",
   "metadata": {},
   "source": [
    "If we ran the code above but with\n",
    "```\n",
    "a = 2\n",
    "b = 2\n",
    "```\n",
    "then we would see nothing printed out."
   ]
  },
  {
   "cell_type": "markdown",
   "metadata": {},
   "source": [
    "## Else\n",
    "\n",
    "What if you wanted to execute a code block if a statement is true; and another if it's false. The `else` part of an if statement can be used for this:\n",
    "```\n",
    "if condition:\n",
    "    code block 1\n",
    "else:\n",
    "    code block 2\n",
    "```\n",
    "If `condition` evaluates to `True` then `code block 1` will be executed. If, on the other hand, `condition` evaluates to `False`, `code block 2` will be executed."
   ]
  },
  {
   "cell_type": "markdown",
   "metadata": {},
   "source": [
    "### Worked Example\n",
    "\n",
    "Let's take our first example and add an `else` part to it:"
   ]
  },
  {
   "cell_type": "code",
   "execution_count": 3,
   "metadata": {},
   "outputs": [
    {
     "name": "stdout",
     "output_type": "stream",
     "text": [
      "3 is greater than 2\n"
     ]
    }
   ],
   "source": [
    "a = 3\n",
    "b = 2\n",
    "\n",
    "if a > b:\n",
    "    print(a, 'is greater than', b)\n",
    "else:\n",
    "    print(a, 'is less than or equal to', b)"
   ]
  },
  {
   "cell_type": "code",
   "execution_count": 4,
   "metadata": {},
   "outputs": [
    {
     "name": "stdout",
     "output_type": "stream",
     "text": [
      "1 is less than or equal to 2\n"
     ]
    }
   ],
   "source": [
    "a = 1\n",
    "b = 2\n",
    "\n",
    "if a > b:\n",
    "    print(a, 'is greater than', b)\n",
    "else:\n",
    "    print(a, 'is less than or equal to', b)"
   ]
  },
  {
   "cell_type": "markdown",
   "metadata": {},
   "source": [
    "## Elif\n",
    "\n",
    "Now, what if you have more than 2 mutually/partially exclusive conditions? You could try multiple `if` statements:\n",
    "```\n",
    "if condition_1:\n",
    "    code block 1\n",
    "if (not condition_1) and condition_2:\n",
    "    code block 2\n",
    "if (not condition_1) and (not condition_2) and condition_3:\n",
    "    code block 3\n",
    "```\n",
    "but not only is this annoying to write, it is computationally expensive. If one of these conditions is true, then the others aren't, but the computer will still check each condition in turn.\n",
    "\n",
    "Another attempt could be to embed the if statements:\n",
    "```\n",
    "if condition_1:\n",
    "    code block 1\n",
    "else:\n",
    "    if condition_2:\n",
    "        code block 2\n",
    "    else:\n",
    "        if condition_3:\n",
    "            code block 3\n",
    "```\n",
    "\n",
    "this is better in terms of computational costs, but is messy and confusing. Luckily Python gives us a tool for this problem, the `elif` part of the `if` statement:\n",
    "```\n",
    "if condition_1:\n",
    "    code block 1\n",
    "elif condition_2:\n",
    "    code block 2\n",
    "elif condition_3:\n",
    "    code block 3\n",
    "```\n",
    "The computer first checks `condition_1`. If `condition_1` evaluates `True` then `code block 1` is executed and control moves leaves the if statement. If `condition_1` evaluates as `False` then the computer will check `condition_2`, if this evaluates as `True` then `code block 2` will be executed and control will leave the if statement. If both `condition_1` and `condition_2` are both `False`, then the computer will check `condition_3`, if this evaluates to `True` `code block 3` will be executed and control will leave the if statement. <!--- mention case where all through are false--> <!--- try to cut down this explanation-->\n",
    "<!--- show flow chart for this?-->"
   ]
  },
  {
   "cell_type": "markdown",
   "metadata": {},
   "source": [
    "### Else and Elif"
   ]
  },
  {
   "cell_type": "code",
   "execution_count": null,
   "metadata": {},
   "outputs": [],
   "source": []
  }
 ],
 "metadata": {
  "kernelspec": {
   "display_name": "Python 3",
   "language": "python",
   "name": "python3"
  },
  "language_info": {
   "codemirror_mode": {
    "name": "ipython",
    "version": 3
   },
   "file_extension": ".py",
   "mimetype": "text/x-python",
   "name": "python",
   "nbconvert_exporter": "python",
   "pygments_lexer": "ipython3",
   "version": "3.7.3"
  }
 },
 "nbformat": 4,
 "nbformat_minor": 4
}
